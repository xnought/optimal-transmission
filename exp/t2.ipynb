{
 "cells": [
  {
   "cell_type": "code",
   "execution_count": 1,
   "metadata": {},
   "outputs": [],
   "source": [
    "history = {}"
   ]
  },
  {
   "cell_type": "code",
   "execution_count": 13,
   "metadata": {},
   "outputs": [],
   "source": [
    "def log_history(history, msg):\n",
    "\tfor char in msg:\n",
    "\t\tif char in history:\n",
    "\t\t\thistory[char] += 1\n",
    "\t\telse:\n",
    "\t\t\thistory[char] = 1\n",
    "\t\n",
    "def send_msg(msg):\n",
    "\tlog_history(history, msg)\n",
    "\treturn msg\n",
    "msg = send_msg(\"hello\")"
   ]
  },
  {
   "cell_type": "code",
   "execution_count": 14,
   "metadata": {},
   "outputs": [
    {
     "data": {
      "text/plain": [
       "5"
      ]
     },
     "execution_count": 14,
     "metadata": {},
     "output_type": "execute_result"
    }
   ],
   "source": [
    "def naive_count_bytes(msg):\n",
    "\treturn len(msg)\n",
    "\n",
    "naive_count_bytes(msg)"
   ]
  },
  {
   "cell_type": "code",
   "execution_count": 16,
   "metadata": {},
   "outputs": [
    {
     "data": {
      "text/plain": [
       "27"
      ]
     },
     "execution_count": 16,
     "metadata": {},
     "output_type": "execute_result"
    }
   ],
   "source": [
    "ALPHABET =  \"abcdefghijklmnopqrstuvwxyz \"\n",
    "len(ALPHABET)"
   ]
  },
  {
   "cell_type": "code",
   "execution_count": 64,
   "metadata": {},
   "outputs": [
    {
     "data": {
      "text/plain": [
       "['1', '1', '1']"
      ]
     },
     "execution_count": 64,
     "metadata": {},
     "output_type": "execute_result"
    }
   ],
   "source": [
    "def bit_string(num):\n",
    "\treturn [b for b in bin(num)][2:]\n",
    "\n",
    "bit_string(7)"
   ]
  },
  {
   "cell_type": "code",
   "execution_count": 65,
   "metadata": {},
   "outputs": [],
   "source": [
    "def naive_encode():\n",
    "\tnaive_encoding = {}\n",
    "\tfor i, a in enumerate(ALPHABET):\n",
    "\t\tnaive_encoding[a] = bit_string(i)\n",
    "\t\t\n",
    "\treturn naive_encoding"
   ]
  },
  {
   "cell_type": "code",
   "execution_count": 66,
   "metadata": {},
   "outputs": [
    {
     "data": {
      "text/plain": [
       "{'a': ['0'],\n",
       " 'b': ['1'],\n",
       " 'c': ['1', '0'],\n",
       " 'd': ['1', '1'],\n",
       " 'e': ['1', '0', '0'],\n",
       " 'f': ['1', '0', '1'],\n",
       " 'g': ['1', '1', '0'],\n",
       " 'h': ['1', '1', '1'],\n",
       " 'i': ['1', '0', '0', '0'],\n",
       " 'j': ['1', '0', '0', '1'],\n",
       " 'k': ['1', '0', '1', '0'],\n",
       " 'l': ['1', '0', '1', '1'],\n",
       " 'm': ['1', '1', '0', '0'],\n",
       " 'n': ['1', '1', '0', '1'],\n",
       " 'o': ['1', '1', '1', '0'],\n",
       " 'p': ['1', '1', '1', '1'],\n",
       " 'q': ['1', '0', '0', '0', '0'],\n",
       " 'r': ['1', '0', '0', '0', '1'],\n",
       " 's': ['1', '0', '0', '1', '0'],\n",
       " 't': ['1', '0', '0', '1', '1'],\n",
       " 'u': ['1', '0', '1', '0', '0'],\n",
       " 'v': ['1', '0', '1', '0', '1'],\n",
       " 'w': ['1', '0', '1', '1', '0'],\n",
       " 'x': ['1', '0', '1', '1', '1'],\n",
       " 'y': ['1', '1', '0', '0', '0'],\n",
       " 'z': ['1', '1', '0', '0', '1'],\n",
       " ' ': ['1', '1', '0', '1', '0']}"
      ]
     },
     "execution_count": 66,
     "metadata": {},
     "output_type": "execute_result"
    }
   ],
   "source": [
    "naive_encode()"
   ]
  },
  {
   "cell_type": "code",
   "execution_count": null,
   "metadata": {},
   "outputs": [],
   "source": []
  }
 ],
 "metadata": {
  "kernelspec": {
   "display_name": "Python 3",
   "language": "python",
   "name": "python3"
  },
  "language_info": {
   "codemirror_mode": {
    "name": "ipython",
    "version": 3
   },
   "file_extension": ".py",
   "mimetype": "text/x-python",
   "name": "python",
   "nbconvert_exporter": "python",
   "pygments_lexer": "ipython3",
   "version": "3.11.2"
  },
  "orig_nbformat": 4
 },
 "nbformat": 4,
 "nbformat_minor": 2
}
